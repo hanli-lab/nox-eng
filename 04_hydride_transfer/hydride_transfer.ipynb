{
 "cells": [
  {
   "cell_type": "code",
   "execution_count": 1,
   "metadata": {},
   "outputs": [],
   "source": [
    "import numpy as np\n",
    "import pandas as pd\n",
    "import matplotlib.pyplot as plt\n",
    "\n",
    "%matplotlib inline"
   ]
  },
  {
   "cell_type": "code",
   "execution_count": 2,
   "metadata": {},
   "outputs": [],
   "source": [
    "df = pd.read_csv('../00_raw_data/hydride_dist.csv')"
   ]
  },
  {
   "cell_type": "code",
   "execution_count": 3,
   "metadata": {},
   "outputs": [
    {
     "data": {
      "text/html": [
       "<div>\n",
       "<style scoped>\n",
       "    .dataframe tbody tr th:only-of-type {\n",
       "        vertical-align: middle;\n",
       "    }\n",
       "\n",
       "    .dataframe tbody tr th {\n",
       "        vertical-align: top;\n",
       "    }\n",
       "\n",
       "    .dataframe thead th {\n",
       "        text-align: right;\n",
       "    }\n",
       "</style>\n",
       "<table border=\"1\" class=\"dataframe\">\n",
       "  <thead>\n",
       "    <tr style=\"text-align: right;\">\n",
       "      <th></th>\n",
       "      <th>dist</th>\n",
       "      <th>run</th>\n",
       "    </tr>\n",
       "  </thead>\n",
       "  <tbody>\n",
       "    <tr>\n",
       "      <th>0</th>\n",
       "      <td>6.358545</td>\n",
       "      <td>wt_mna</td>\n",
       "    </tr>\n",
       "    <tr>\n",
       "      <th>1</th>\n",
       "      <td>8.956494</td>\n",
       "      <td>wt_mna</td>\n",
       "    </tr>\n",
       "    <tr>\n",
       "      <th>2</th>\n",
       "      <td>8.261289</td>\n",
       "      <td>wt_mna</td>\n",
       "    </tr>\n",
       "    <tr>\n",
       "      <th>3</th>\n",
       "      <td>8.505263</td>\n",
       "      <td>wt_mna</td>\n",
       "    </tr>\n",
       "    <tr>\n",
       "      <th>4</th>\n",
       "      <td>8.447072</td>\n",
       "      <td>wt_mna</td>\n",
       "    </tr>\n",
       "  </tbody>\n",
       "</table>\n",
       "</div>"
      ],
      "text/plain": [
       "       dist     run\n",
       "0  6.358545  wt_mna\n",
       "1  8.956494  wt_mna\n",
       "2  8.261289  wt_mna\n",
       "3  8.505263  wt_mna\n",
       "4  8.447072  wt_mna"
      ]
     },
     "execution_count": 3,
     "metadata": {},
     "output_type": "execute_result"
    }
   ],
   "source": [
    "df.head()"
   ]
  },
  {
   "cell_type": "code",
   "execution_count": 4,
   "metadata": {},
   "outputs": [],
   "source": [
    "def get_freqs(df: pd.DataFrame, \n",
    "              thresh: float\n",
    "             ) -> pd.DataFrame:\n",
    "    \n",
    "    runs = df['run'].unique()\n",
    "    total = df.shape[0] / len(runs)\n",
    "    \n",
    "    res = []\n",
    "    for run in runs:\n",
    "        subset = df.query(\"run == @run and dist <= @thresh\")\n",
    "        active = subset.shape[0]\n",
    "        ratio = active/total\n",
    "        \n",
    "        res.append([run, ratio, 1-ratio])\n",
    "        \n",
    "    df = pd.DataFrame(res, columns=['run', 'active', 'inactive'])\n",
    "    \n",
    "    return df"
   ]
  },
  {
   "cell_type": "code",
   "execution_count": 5,
   "metadata": {},
   "outputs": [
    {
     "data": {
      "text/html": [
       "<div>\n",
       "<style scoped>\n",
       "    .dataframe tbody tr th:only-of-type {\n",
       "        vertical-align: middle;\n",
       "    }\n",
       "\n",
       "    .dataframe tbody tr th {\n",
       "        vertical-align: top;\n",
       "    }\n",
       "\n",
       "    .dataframe thead th {\n",
       "        text-align: right;\n",
       "    }\n",
       "</style>\n",
       "<table border=\"1\" class=\"dataframe\">\n",
       "  <thead>\n",
       "    <tr style=\"text-align: right;\">\n",
       "      <th></th>\n",
       "      <th>run</th>\n",
       "      <th>active</th>\n",
       "      <th>inactive</th>\n",
       "    </tr>\n",
       "  </thead>\n",
       "  <tbody>\n",
       "    <tr>\n",
       "      <th>0</th>\n",
       "      <td>wt_mna</td>\n",
       "      <td>0.0030</td>\n",
       "      <td>0.9970</td>\n",
       "    </tr>\n",
       "    <tr>\n",
       "      <th>1</th>\n",
       "      <td>mut_mna</td>\n",
       "      <td>0.5975</td>\n",
       "      <td>0.4025</td>\n",
       "    </tr>\n",
       "    <tr>\n",
       "      <th>2</th>\n",
       "      <td>wt_nad</td>\n",
       "      <td>0.7410</td>\n",
       "      <td>0.2590</td>\n",
       "    </tr>\n",
       "  </tbody>\n",
       "</table>\n",
       "</div>"
      ],
      "text/plain": [
       "       run  active  inactive\n",
       "0   wt_mna  0.0030    0.9970\n",
       "1  mut_mna  0.5975    0.4025\n",
       "2   wt_nad  0.7410    0.2590"
      ]
     },
     "execution_count": 5,
     "metadata": {},
     "output_type": "execute_result"
    }
   ],
   "source": [
    "freqs = get_freqs(df, 4.5)\n",
    "freqs.to_csv('../00_raw_data/cofa_poses.csv', index=False)\n",
    "freqs"
   ]
  },
  {
   "cell_type": "code",
   "execution_count": 6,
   "metadata": {},
   "outputs": [
    {
     "data": {
      "image/png": "[encoded data removed]",
      "text/plain": [
       "<Figure size 432x288 with 1 Axes>"
      ]
     },
     "metadata": {
      "needs_background": "light"
     },
     "output_type": "display_data"
    }
   ],
   "source": [
    "labels = {'wt_mna' : 'WT MNA',\n",
    "          'mut_mna' : 'MUT MNA',\n",
    "          'wt_nad' : 'WT NAD'}\n",
    "\n",
    "labs = [labels[run] for run in freqs['run']]\n",
    "\n",
    "fig, ax = plt.subplots(figsize=(6, 4))\n",
    "width=0.20\n",
    "x = [0, 0.4, 0.8]\n",
    "\n",
    "ax.bar(x, freqs['active'], width, label='Active', edgecolor='k')\n",
    "ax.bar(x, freqs['inactive'], width, label='Inactive', edgecolor='k', bottom=freqs['active'])\n",
    "\n",
    "ax.set_xticks(x)\n",
    "ax.set_xticklabels(labs)\n",
    "ax.tick_params(axis='x', which='major')\n",
    "ax.tick_params(axis='y')\n",
    "ax.legend(bbox_to_anchor=(1.05, 1.2))\n",
    "ax.set_ylabel('Frequency (%)', size=13)\n",
    "ax.set_title('Cofactor Pose Occupancy', size=15)\n",
    "plt.savefig('pose.png')"
   ]
  },
  {
   "cell_type": "code",
   "execution_count": null,
   "metadata": {},
   "outputs": [],
   "source": []
  }
 ],
 "metadata": {
  "kernelspec": {
   "display_name": "Python 3.9.7 ('pt_new')",
   "language": "python",
   "name": "python3"
  },
  "language_info": {
   "codemirror_mode": {
    "name": "ipython",
    "version": 3
   },
   "file_extension": ".py",
   "mimetype": "text/x-python",
   "name": "python",
   "nbconvert_exporter": "python",
   "pygments_lexer": "ipython3",
   "version": "3.9.7"
  },
  "vscode": {
   "interpreter": {
    "hash": "5c753ef0ab673d9f6bdd8ccff67a713f152019021eeb7df3c7931d6ef52c0555"
   }
  }
 },
 "nbformat": 4,
 "nbformat_minor": 4
}
