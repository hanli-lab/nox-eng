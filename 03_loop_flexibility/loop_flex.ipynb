{
 "cells": [
  {
   "cell_type": "code",
   "execution_count": 1,
   "metadata": {},
   "outputs": [],
   "source": [
    "import numpy as np\n",
    "import pandas as pd\n",
    "import matplotlib.pyplot as plt\n",
    "\n",
    "%matplotlib inline"
   ]
  },
  {
   "cell_type": "code",
   "execution_count": 2,
   "metadata": {},
   "outputs": [],
   "source": [
    "df = pd.read_csv('../00_raw_data/loops_rmsd.csv')"
   ]
  },
  {
   "cell_type": "code",
   "execution_count": 3,
   "metadata": {},
   "outputs": [
    {
     "data": {
      "text/html": [
       "<div>\n",
       "<style scoped>\n",
       "    .dataframe tbody tr th:only-of-type {\n",
       "        vertical-align: middle;\n",
       "    }\n",
       "\n",
       "    .dataframe tbody tr th {\n",
       "        vertical-align: top;\n",
       "    }\n",
       "\n",
       "    .dataframe thead th {\n",
       "        text-align: right;\n",
       "    }\n",
       "</style>\n",
       "<table border=\"1\" class=\"dataframe\">\n",
       "  <thead>\n",
       "    <tr style=\"text-align: right;\">\n",
       "      <th></th>\n",
       "      <th>mut_mnah</th>\n",
       "      <th>wt_nadh</th>\n",
       "      <th>wt_mnah</th>\n",
       "    </tr>\n",
       "  </thead>\n",
       "  <tbody>\n",
       "    <tr>\n",
       "      <th>0</th>\n",
       "      <td>1.481966e-07</td>\n",
       "      <td>0.000000</td>\n",
       "      <td>1.685874e-07</td>\n",
       "    </tr>\n",
       "    <tr>\n",
       "      <th>1</th>\n",
       "      <td>4.262996e-01</td>\n",
       "      <td>0.552477</td>\n",
       "      <td>4.184967e-01</td>\n",
       "    </tr>\n",
       "    <tr>\n",
       "      <th>2</th>\n",
       "      <td>5.834489e-01</td>\n",
       "      <td>0.815436</td>\n",
       "      <td>4.072890e-01</td>\n",
       "    </tr>\n",
       "    <tr>\n",
       "      <th>3</th>\n",
       "      <td>5.886668e-01</td>\n",
       "      <td>0.613059</td>\n",
       "      <td>4.460981e-01</td>\n",
       "    </tr>\n",
       "    <tr>\n",
       "      <th>4</th>\n",
       "      <td>5.831392e-01</td>\n",
       "      <td>0.462317</td>\n",
       "      <td>4.642304e-01</td>\n",
       "    </tr>\n",
       "  </tbody>\n",
       "</table>\n",
       "</div>"
      ],
      "text/plain": [
       "       mut_mnah   wt_nadh       wt_mnah\n",
       "0  1.481966e-07  0.000000  1.685874e-07\n",
       "1  4.262996e-01  0.552477  4.184967e-01\n",
       "2  5.834489e-01  0.815436  4.072890e-01\n",
       "3  5.886668e-01  0.613059  4.460981e-01\n",
       "4  5.831392e-01  0.462317  4.642304e-01"
      ]
     },
     "execution_count": 3,
     "metadata": {},
     "output_type": "execute_result"
    }
   ],
   "source": [
    "df.head()"
   ]
  },
  {
   "cell_type": "code",
   "execution_count": 4,
   "metadata": {},
   "outputs": [],
   "source": [
    "df_agg = (pd.melt(df, var_name='label', value_name='loop_rmsd')\n",
    "            .groupby('label')\n",
    "            .agg({'loop_rmsd' : ['mean', 'std']})\n",
    "         ).reset_index()"
   ]
  },
  {
   "cell_type": "code",
   "execution_count": 5,
   "metadata": {},
   "outputs": [
    {
     "data": {
      "text/html": [
       "<div>\n",
       "<style scoped>\n",
       "    .dataframe tbody tr th:only-of-type {\n",
       "        vertical-align: middle;\n",
       "    }\n",
       "\n",
       "    .dataframe tbody tr th {\n",
       "        vertical-align: top;\n",
       "    }\n",
       "\n",
       "    .dataframe thead tr th {\n",
       "        text-align: left;\n",
       "    }\n",
       "</style>\n",
       "<table border=\"1\" class=\"dataframe\">\n",
       "  <thead>\n",
       "    <tr>\n",
       "      <th></th>\n",
       "      <th>label</th>\n",
       "      <th colspan=\"2\" halign=\"left\">loop_rmsd</th>\n",
       "    </tr>\n",
       "    <tr>\n",
       "      <th></th>\n",
       "      <th></th>\n",
       "      <th>mean</th>\n",
       "      <th>std</th>\n",
       "    </tr>\n",
       "  </thead>\n",
       "  <tbody>\n",
       "    <tr>\n",
       "      <th>0</th>\n",
       "      <td>mut_mnah</td>\n",
       "      <td>0.748585</td>\n",
       "      <td>0.080487</td>\n",
       "    </tr>\n",
       "    <tr>\n",
       "      <th>1</th>\n",
       "      <td>wt_mnah</td>\n",
       "      <td>0.938173</td>\n",
       "      <td>0.126241</td>\n",
       "    </tr>\n",
       "    <tr>\n",
       "      <th>2</th>\n",
       "      <td>wt_nadh</td>\n",
       "      <td>0.746172</td>\n",
       "      <td>0.105083</td>\n",
       "    </tr>\n",
       "  </tbody>\n",
       "</table>\n",
       "</div>"
      ],
      "text/plain": [
       "      label loop_rmsd          \n",
       "                 mean       std\n",
       "0  mut_mnah  0.748585  0.080487\n",
       "1   wt_mnah  0.938173  0.126241\n",
       "2   wt_nadh  0.746172  0.105083"
      ]
     },
     "execution_count": 5,
     "metadata": {},
     "output_type": "execute_result"
    }
   ],
   "source": [
    "df_agg.to_csv('../00_raw_data/loops_rmsd_agg.csv', index=False)\n",
    "df_agg"
   ]
  },
  {
   "cell_type": "code",
   "execution_count": 6,
   "metadata": {},
   "outputs": [
    {
     "data": {
      "image/png": "[encoded data removed]",
      "text/plain": [
       "<Figure size 432x288 with 1 Axes>"
      ]
     },
     "metadata": {
      "needs_background": "light"
     },
     "output_type": "display_data"
    }
   ],
   "source": [
    "plt.hist(df['mut_mnah'], label='MUT MNAH', density=True, bins=40, alpha=0.6, color='#0C5DA5')\n",
    "plt.hist(df['mut_mnah'], density=True, bins=40, color='C0', histtype='step')\n",
    "\n",
    "plt.hist(df['wt_mnah'], label='WT MNAH', density=True, bins=40, alpha=0.6, color='#FF9500')\n",
    "plt.hist(df['wt_mnah'], density=True, bins=40, color='C1', histtype='step')\n",
    "\n",
    "plt.hist(df['wt_nadh'], label='WT NADH', density=True, bins=40, alpha=0.6, color='#00B945')\n",
    "plt.hist(df['wt_nadh'], density=True, bins=40, color='C2', histtype='step')\n",
    "\n",
    "plt.legend(loc='center left', bbox_to_anchor=(1, 0.5))\n",
    "plt.title('Loops C-alpha RMSD', size=14)\n",
    "plt.xlabel('RMSD (Angstrom)', size=13)\n",
    "plt.ylabel('Density', size=13)\n",
    "plt.xlim([0.3, 1.4])\n",
    "\n",
    "ax = plt.gca()\n",
    "plt.text(0.1, 0.9, 'Rigid', transform=ax.transAxes, ha='center', size=12)\n",
    "plt.text(0.87, 0.9, 'Flexible', transform=ax.transAxes, ha='center', size=12)\n",
    "\n",
    "plt.savefig('loop_flex.png')"
   ]
  },
  {
   "cell_type": "code",
   "execution_count": null,
   "metadata": {},
   "outputs": [],
   "source": []
  }
 ],
 "metadata": {
  "kernelspec": {
   "display_name": "Python 3.9.7 ('pt_new')",
   "language": "python",
   "name": "python3"
  },
  "language_info": {
   "codemirror_mode": {
    "name": "ipython",
    "version": 3
   },
   "file_extension": ".py",
   "mimetype": "text/x-python",
   "name": "python",
   "nbconvert_exporter": "python",
   "pygments_lexer": "ipython3",
   "version": "3.9.7"
  },
  "vscode": {
   "interpreter": {
    "hash": "5c753ef0ab673d9f6bdd8ccff67a713f152019021eeb7df3c7931d6ef52c0555"
   }
  }
 },
 "nbformat": 4,
 "nbformat_minor": 4
}
